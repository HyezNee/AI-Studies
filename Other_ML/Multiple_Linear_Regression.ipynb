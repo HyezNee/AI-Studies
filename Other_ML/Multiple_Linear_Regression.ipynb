{
 "cells": [
  {
   "cell_type": "code",
   "execution_count": 38,
   "metadata": {},
   "outputs": [],
   "source": [
    "import numpy as np\n",
    "import pandas as pd\n",
    "import statsmodels.api as sm\n",
    "from sklearn.metrics import mean_squared_error"
   ]
  },
  {
   "cell_type": "code",
   "execution_count": 2,
   "metadata": {},
   "outputs": [],
   "source": [
    "# 0-1. 무엇을 분석할 것인지 (주제) 정하기\n",
    "# 0-2. 해당 주제에 맞게 X(독립변수)와 Y(종속변수) 정하고, 그에 맞는 데이터 수집\n",
    "\n",
    "# 1. 데이터 파일 업로드\n",
    "csv_file = '../datasets/2019_kbo_for_kaggle_v2.csv'\n",
    "df = pd.read_csv(csv_file)"
   ]
  },
  {
   "cell_type": "code",
   "execution_count": 3,
   "metadata": {},
   "outputs": [
    {
     "name": "stdout",
     "output_type": "stream",
     "text": [
      "['batter_name', 'age', 'G', 'PA', 'AB', 'R', 'H', '2B', '3B', 'HR', 'TB', 'RBI', 'SB', 'CS', 'BB', 'HBP', 'GB', 'SO', 'GDP', 'BU', 'fly', 'year', 'salary', 'war', 'year_born', 'hand2', 'cp', 'tp', '1B', 'FBP', 'avg', 'OBP', 'SLG', 'OPS', 'p_year', 'YAB', 'YOPS']\n"
     ]
    },
    {
     "data": {
      "text/html": [
       "<div>\n",
       "<style scoped>\n",
       "    .dataframe tbody tr th:only-of-type {\n",
       "        vertical-align: middle;\n",
       "    }\n",
       "\n",
       "    .dataframe tbody tr th {\n",
       "        vertical-align: top;\n",
       "    }\n",
       "\n",
       "    .dataframe thead th {\n",
       "        text-align: right;\n",
       "    }\n",
       "</style>\n",
       "<table border=\"1\" class=\"dataframe\">\n",
       "  <thead>\n",
       "    <tr style=\"text-align: right;\">\n",
       "      <th></th>\n",
       "      <th>batter_name</th>\n",
       "      <th>age</th>\n",
       "      <th>G</th>\n",
       "      <th>PA</th>\n",
       "      <th>AB</th>\n",
       "      <th>R</th>\n",
       "      <th>H</th>\n",
       "      <th>2B</th>\n",
       "      <th>3B</th>\n",
       "      <th>HR</th>\n",
       "      <th>...</th>\n",
       "      <th>tp</th>\n",
       "      <th>1B</th>\n",
       "      <th>FBP</th>\n",
       "      <th>avg</th>\n",
       "      <th>OBP</th>\n",
       "      <th>SLG</th>\n",
       "      <th>OPS</th>\n",
       "      <th>p_year</th>\n",
       "      <th>YAB</th>\n",
       "      <th>YOPS</th>\n",
       "    </tr>\n",
       "  </thead>\n",
       "  <tbody>\n",
       "    <tr>\n",
       "      <th>0</th>\n",
       "      <td>백용환</td>\n",
       "      <td>24.0</td>\n",
       "      <td>26.0</td>\n",
       "      <td>58.0</td>\n",
       "      <td>52.0</td>\n",
       "      <td>4.0</td>\n",
       "      <td>9.0</td>\n",
       "      <td>4.0</td>\n",
       "      <td>0.0</td>\n",
       "      <td>0.0</td>\n",
       "      <td>...</td>\n",
       "      <td>포수</td>\n",
       "      <td>5.0</td>\n",
       "      <td>6.0</td>\n",
       "      <td>0.173</td>\n",
       "      <td>0.259</td>\n",
       "      <td>0.250</td>\n",
       "      <td>0.509</td>\n",
       "      <td>2014</td>\n",
       "      <td>79.0</td>\n",
       "      <td>0.580</td>\n",
       "    </tr>\n",
       "    <tr>\n",
       "      <th>1</th>\n",
       "      <td>백용환</td>\n",
       "      <td>25.0</td>\n",
       "      <td>47.0</td>\n",
       "      <td>86.0</td>\n",
       "      <td>79.0</td>\n",
       "      <td>8.0</td>\n",
       "      <td>14.0</td>\n",
       "      <td>2.0</td>\n",
       "      <td>0.0</td>\n",
       "      <td>4.0</td>\n",
       "      <td>...</td>\n",
       "      <td>포수</td>\n",
       "      <td>8.0</td>\n",
       "      <td>5.0</td>\n",
       "      <td>0.177</td>\n",
       "      <td>0.226</td>\n",
       "      <td>0.354</td>\n",
       "      <td>0.580</td>\n",
       "      <td>2015</td>\n",
       "      <td>154.0</td>\n",
       "      <td>0.784</td>\n",
       "    </tr>\n",
       "    <tr>\n",
       "      <th>2</th>\n",
       "      <td>백용환</td>\n",
       "      <td>26.0</td>\n",
       "      <td>65.0</td>\n",
       "      <td>177.0</td>\n",
       "      <td>154.0</td>\n",
       "      <td>22.0</td>\n",
       "      <td>36.0</td>\n",
       "      <td>6.0</td>\n",
       "      <td>0.0</td>\n",
       "      <td>10.0</td>\n",
       "      <td>...</td>\n",
       "      <td>포수</td>\n",
       "      <td>20.0</td>\n",
       "      <td>20.0</td>\n",
       "      <td>0.234</td>\n",
       "      <td>0.316</td>\n",
       "      <td>0.468</td>\n",
       "      <td>0.784</td>\n",
       "      <td>2016</td>\n",
       "      <td>174.0</td>\n",
       "      <td>0.581</td>\n",
       "    </tr>\n",
       "    <tr>\n",
       "      <th>3</th>\n",
       "      <td>백용환</td>\n",
       "      <td>27.0</td>\n",
       "      <td>80.0</td>\n",
       "      <td>199.0</td>\n",
       "      <td>174.0</td>\n",
       "      <td>12.0</td>\n",
       "      <td>34.0</td>\n",
       "      <td>7.0</td>\n",
       "      <td>0.0</td>\n",
       "      <td>4.0</td>\n",
       "      <td>...</td>\n",
       "      <td>포수</td>\n",
       "      <td>23.0</td>\n",
       "      <td>20.0</td>\n",
       "      <td>0.195</td>\n",
       "      <td>0.276</td>\n",
       "      <td>0.305</td>\n",
       "      <td>0.581</td>\n",
       "      <td>2017</td>\n",
       "      <td>17.0</td>\n",
       "      <td>0.476</td>\n",
       "    </tr>\n",
       "    <tr>\n",
       "      <th>4</th>\n",
       "      <td>백용환</td>\n",
       "      <td>28.0</td>\n",
       "      <td>15.0</td>\n",
       "      <td>20.0</td>\n",
       "      <td>17.0</td>\n",
       "      <td>2.0</td>\n",
       "      <td>3.0</td>\n",
       "      <td>0.0</td>\n",
       "      <td>0.0</td>\n",
       "      <td>0.0</td>\n",
       "      <td>...</td>\n",
       "      <td>포수</td>\n",
       "      <td>3.0</td>\n",
       "      <td>3.0</td>\n",
       "      <td>0.176</td>\n",
       "      <td>0.300</td>\n",
       "      <td>0.176</td>\n",
       "      <td>0.476</td>\n",
       "      <td>2018</td>\n",
       "      <td>47.0</td>\n",
       "      <td>0.691</td>\n",
       "    </tr>\n",
       "  </tbody>\n",
       "</table>\n",
       "<p>5 rows × 37 columns</p>\n",
       "</div>"
      ],
      "text/plain": [
       "  batter_name   age     G     PA     AB     R     H   2B   3B    HR  ...  tp  \\\n",
       "0         백용환  24.0  26.0   58.0   52.0   4.0   9.0  4.0  0.0   0.0  ...  포수   \n",
       "1         백용환  25.0  47.0   86.0   79.0   8.0  14.0  2.0  0.0   4.0  ...  포수   \n",
       "2         백용환  26.0  65.0  177.0  154.0  22.0  36.0  6.0  0.0  10.0  ...  포수   \n",
       "3         백용환  27.0  80.0  199.0  174.0  12.0  34.0  7.0  0.0   4.0  ...  포수   \n",
       "4         백용환  28.0  15.0   20.0   17.0   2.0   3.0  0.0  0.0   0.0  ...  포수   \n",
       "\n",
       "     1B   FBP    avg    OBP    SLG    OPS  p_year    YAB   YOPS  \n",
       "0   5.0   6.0  0.173  0.259  0.250  0.509    2014   79.0  0.580  \n",
       "1   8.0   5.0  0.177  0.226  0.354  0.580    2015  154.0  0.784  \n",
       "2  20.0  20.0  0.234  0.316  0.468  0.784    2016  174.0  0.581  \n",
       "3  23.0  20.0  0.195  0.276  0.305  0.581    2017   17.0  0.476  \n",
       "4   3.0   3.0  0.176  0.300  0.176  0.476    2018   47.0  0.691  \n",
       "\n",
       "[5 rows x 37 columns]"
      ]
     },
     "execution_count": 3,
     "metadata": {},
     "output_type": "execute_result"
    }
   ],
   "source": [
    "# 불러 온 데이터 확인\n",
    "\n",
    "# 확인 방법 1. column 목록 확인\n",
    "print(list(df.columns))  # list를 붙이면 더 깔끔하게 확인할 수 있다!!\n",
    "# 확인 방법 2. 최초 5행 표시\n",
    "df.head()   # 이상하게 얘를 1 위로 올리면 출력이 안된다;;;왜지"
   ]
  },
  {
   "cell_type": "code",
   "execution_count": 4,
   "metadata": {},
   "outputs": [
    {
     "name": "stdout",
     "output_type": "stream",
     "text": [
      "[[24.     0.173  0.509]\n",
      " [25.     0.177  0.58 ]\n",
      " [26.     0.234  0.784]\n",
      " ...\n",
      " [29.     0.077  0.154]\n",
      " [27.     0.312  0.849]\n",
      " [28.     0.308  0.889]]\n",
      "(1899, 3)\n",
      "[-0.055 -0.441  0.783 ... -0.271  2.365  5.356]\n",
      "(1899,)\n"
     ]
    },
    {
     "data": {
      "text/html": [
       "<div>\n",
       "<style scoped>\n",
       "    .dataframe tbody tr th:only-of-type {\n",
       "        vertical-align: middle;\n",
       "    }\n",
       "\n",
       "    .dataframe tbody tr th {\n",
       "        vertical-align: top;\n",
       "    }\n",
       "\n",
       "    .dataframe thead th {\n",
       "        text-align: right;\n",
       "    }\n",
       "</style>\n",
       "<table border=\"1\" class=\"dataframe\">\n",
       "  <thead>\n",
       "    <tr style=\"text-align: right;\">\n",
       "      <th></th>\n",
       "      <th>age</th>\n",
       "      <th>avg</th>\n",
       "      <th>OPS</th>\n",
       "      <th>war</th>\n",
       "    </tr>\n",
       "  </thead>\n",
       "  <tbody>\n",
       "    <tr>\n",
       "      <th>0</th>\n",
       "      <td>24.0</td>\n",
       "      <td>0.173</td>\n",
       "      <td>0.509</td>\n",
       "      <td>-0.055</td>\n",
       "    </tr>\n",
       "    <tr>\n",
       "      <th>1</th>\n",
       "      <td>25.0</td>\n",
       "      <td>0.177</td>\n",
       "      <td>0.580</td>\n",
       "      <td>-0.441</td>\n",
       "    </tr>\n",
       "    <tr>\n",
       "      <th>2</th>\n",
       "      <td>26.0</td>\n",
       "      <td>0.234</td>\n",
       "      <td>0.784</td>\n",
       "      <td>0.783</td>\n",
       "    </tr>\n",
       "    <tr>\n",
       "      <th>3</th>\n",
       "      <td>27.0</td>\n",
       "      <td>0.195</td>\n",
       "      <td>0.581</td>\n",
       "      <td>-0.405</td>\n",
       "    </tr>\n",
       "    <tr>\n",
       "      <th>4</th>\n",
       "      <td>28.0</td>\n",
       "      <td>0.176</td>\n",
       "      <td>0.476</td>\n",
       "      <td>-0.130</td>\n",
       "    </tr>\n",
       "  </tbody>\n",
       "</table>\n",
       "</div>"
      ],
      "text/plain": [
       "    age    avg    OPS    war\n",
       "0  24.0  0.173  0.509 -0.055\n",
       "1  25.0  0.177  0.580 -0.441\n",
       "2  26.0  0.234  0.784  0.783\n",
       "3  27.0  0.195  0.581 -0.405\n",
       "4  28.0  0.176  0.476 -0.130"
      ]
     },
     "execution_count": 4,
     "metadata": {},
     "output_type": "execute_result"
    }
   ],
   "source": [
    "# 불러 온 데이터셋 중 필요한 column만 떼어내 numpy X, y에 저장\n",
    "\n",
    "# 아래와 같이 하면 안됨!!! 단순히 값을 더하는 행위\n",
    "# X = np.array(df['age']) + np.array(df['avg']) + np.array(df['OPS'])\n",
    "\n",
    "# 그러면 어떻게 컬럼 일부만 추출하여 numpy로 저장하는가?\n",
    "# 1. 우선 이렇게 dataframe에서 일부만 떼어 내어 새로운 dataframe을 만들어준다\n",
    "df_slice = df[['age', 'avg', 'OPS', 'war']]\n",
    "# 1-1. 그 다음 비어있는 행을 제거하기 위해 아래와 같은 코드 써 줌\n",
    "df_slice = df_slice.replace('', np.nan)    # 빈 행을 nan값으로 채워준다\n",
    "                                                  # inplace=True : 원본을 바꿈\n",
    "# 1-2. null 값이 포함된 행 삭제\n",
    "df_slice = df_slice.dropna()\n",
    "\n",
    "#2. 그 다음 다음 함수들을 이용해 numpy로 바꿔준다\n",
    "#X = ~.values\n",
    "X = df_slice[['age', 'avg', 'OPS']].to_numpy()\n",
    "print(X)\n",
    "print(X.shape)\n",
    "\n",
    "y = df_slice['war'].to_numpy()\n",
    "print(y)\n",
    "print(y.shape)\n",
    "df_slice.head()"
   ]
  },
  {
   "cell_type": "code",
   "execution_count": 5,
   "metadata": {},
   "outputs": [
    {
     "name": "stdout",
     "output_type": "stream",
     "text": [
      "[[ 1.    24.     0.173  0.509]\n",
      " [ 1.    25.     0.177  0.58 ]\n",
      " [ 1.    26.     0.234  0.784]\n",
      " ...\n",
      " [ 1.    29.     0.077  0.154]\n",
      " [ 1.    27.     0.312  0.849]\n",
      " [ 1.    28.     0.308  0.889]]\n"
     ]
    }
   ],
   "source": [
    "# statsmodels 라이브러리의 함수를 이용해 다중 선형 회귀 수행\n",
    "X_const = sm.add_constant(X)   # 행렬 왼쪽 끝에 1 추가\n",
    "print(X_const)"
   ]
  },
  {
   "cell_type": "code",
   "execution_count": 6,
   "metadata": {},
   "outputs": [
    {
     "name": "stdout",
     "output_type": "stream",
     "text": [
      "                            OLS Regression Results                            \n",
      "==============================================================================\n",
      "Dep. Variable:                      y   R-squared:                       0.338\n",
      "Model:                            OLS   Adj. R-squared:                  0.337\n",
      "Method:                 Least Squares   F-statistic:                     322.8\n",
      "Date:                Thu, 10 Jun 2021   Prob (F-statistic):          2.83e-169\n",
      "Time:                        23:19:02   Log-Likelihood:                -3465.1\n",
      "No. Observations:                1899   AIC:                             6938.\n",
      "Df Residuals:                    1895   BIC:                             6960.\n",
      "Df Model:                           3                                         \n",
      "Covariance Type:            nonrobust                                         \n",
      "==============================================================================\n",
      "                 coef    std err          t      P>|t|      [0.025      0.975]\n",
      "------------------------------------------------------------------------------\n",
      "const         -1.8927      0.215     -8.799      0.000      -2.315      -1.471\n",
      "x1             0.0159      0.008      2.038      0.042       0.001       0.031\n",
      "x2            -7.1742      1.009     -7.109      0.000      -9.154      -5.195\n",
      "x3             6.6856      0.375     17.813      0.000       5.949       7.422\n",
      "==============================================================================\n",
      "Omnibus:                      366.433   Durbin-Watson:                   1.125\n",
      "Prob(Omnibus):                  0.000   Jarque-Bera (JB):             9542.329\n",
      "Skew:                          -0.139   Prob(JB):                         0.00\n",
      "Kurtosis:                      13.978   Cond. No.                         847.\n",
      "==============================================================================\n",
      "\n",
      "Notes:\n",
      "[1] Standard Errors assume that the covariance matrix of the errors is correctly specified.\n"
     ]
    }
   ],
   "source": [
    "# 다중선형회귀 수행\n",
    "model = sm.OLS(y, X_const)\n",
    "result = model.fit()\n",
    "print(result.summary())\n",
    "\n",
    "# 이 때 'exog contains inf or nans' 에러가 발생했었는데, 데이터 값 중 비어있는게 있어서 그렇다고 함\n",
    "# 그래서 위의 셀에 결측값을 제거하는 코드를 추가하였음"
   ]
  },
  {
   "cell_type": "code",
   "execution_count": 50,
   "metadata": {},
   "outputs": [
    {
     "name": "stdout",
     "output_type": "stream",
     "text": [
      "Y-Intercept : -1.8927452110776823, slope = [ 0.01592982 -7.1742449   6.68555166]\n",
      "MSE : 2.251\n"
     ]
    }
   ],
   "source": [
    "# 다음과 같은 식으로 추정한 파라미터(coefficient)를 불러올 수 있음\n",
    "coef = result.params\n",
    "print(f\"Y-Intercept : {coef[0]}, slope = {coef[1:]}\")\n",
    "\n",
    "# MSE (Mean Squared Error) 계산\n",
    "# mse = result.mse_model\n",
    "# print(f\"mse : {mse}\")\n",
    "y_pred = np.matmul(X_const, coef)   # 예측값 행렬 만들기 --> 이거 안하고 그냥 predict 써도 됨\n",
    "print(f'MSE : {mean_squared_error(y, y_pred):.3f}')"
   ]
  },
  {
   "cell_type": "code",
   "execution_count": 8,
   "metadata": {},
   "outputs": [
    {
     "data": {
      "image/png": "[encoded data removed]",
      "text/plain": [
       "<Figure size 1224x360 with 3 Axes>"
      ]
     },
     "metadata": {
      "needs_background": "light"
     },
     "output_type": "display_data"
    }
   ],
   "source": [
    "# 각 독립변수별 그래프 출력하기\n",
    "import matplotlib.pyplot as plt\n",
    "# %matplotlib inline\n",
    "\n",
    "fig = plt.figure(figsize=[17,5])\n",
    "ax1 = fig.add_subplot(131)\n",
    "ax2 = fig.add_subplot(132)\n",
    "ax3 = fig.add_subplot(133)\n",
    "\n",
    "# ax1 : 나이 - war 관계\n",
    "X_age = df_slice['age'].to_numpy()\n",
    "ax1.scatter(X_age, y, c='green', label='Real')\n",
    "ax1.scatter(X_age, y_pred, color='red', label='Predicted')\n",
    "ax1.legend(loc = 'upper right')\n",
    "ax1.set_xlabel('age')\n",
    "ax1.set_ylabel('war')\n",
    "\n",
    "# ax2 : 타율 - war 관계\n",
    "X_avg = df_slice['avg'].to_numpy()\n",
    "ax2.scatter(X_avg, y, c='green', label='Real')\n",
    "ax2.scatter(X_avg, y_pred, color='red', label='Predicted')\n",
    "ax2.legend(loc = 'upper left')\n",
    "ax2.set_xlabel('avg')\n",
    "ax2.set_ylabel('war')\n",
    "\n",
    "# ax3 : OPS - war 관계\n",
    "X_ops = df_slice['OPS'].to_numpy()\n",
    "ax3.scatter(X_ops, y, c='green', label='Real')\n",
    "ax3.scatter(X_ops, y_pred, color='red', label='Predicted')\n",
    "ax3.legend(loc = 'upper left')\n",
    "ax3.set_xlabel('OPS')\n",
    "ax3.set_ylabel('war')\n",
    "\n",
    "plt.show()"
   ]
  },
  {
   "cell_type": "code",
   "execution_count": 9,
   "metadata": {},
   "outputs": [
    {
     "name": "stdout",
     "output_type": "stream",
     "text": [
      "468\n",
      "468\n"
     ]
    }
   ],
   "source": [
    "# 아웃라이어를 없애기 위해, 규정 타석을 채운 데이터만으로 다시 선형 회귀 수행\n",
    "\n",
    "# 규정타석(PA)을 못 채운(446 미만) 데이터는 드랍\n",
    "df_modify = df[df.PA >= 446.0]\n",
    "print(len(df_modify))\n",
    "\n",
    "# 이번에는 numpy를 만들지 않고 from_formula 함수를 이용하여 다중 선형 회귀 수행\n",
    "# 전처리 : 비어있는 값\n",
    "df_modify = df_modify.replace('', np.nan)\n",
    "df_modify = df_modify.dropna()\n",
    "print(len(df_modify))"
   ]
  },
  {
   "cell_type": "code",
   "execution_count": 10,
   "metadata": {},
   "outputs": [
    {
     "name": "stdout",
     "output_type": "stream",
     "text": [
      "                            OLS Regression Results                            \n",
      "==============================================================================\n",
      "Dep. Variable:                    war   R-squared:                       0.665\n",
      "Model:                            OLS   Adj. R-squared:                  0.663\n",
      "Method:                 Least Squares   F-statistic:                     307.4\n",
      "Date:                Thu, 10 Jun 2021   Prob (F-statistic):          7.39e-110\n",
      "Time:                        23:19:06   Log-Likelihood:                -661.21\n",
      "No. Observations:                 468   AIC:                             1330.\n",
      "Df Residuals:                     464   BIC:                             1347.\n",
      "Df Model:                           3                                         \n",
      "Covariance Type:            nonrobust                                         \n",
      "==============================================================================\n",
      "                 coef    std err          t      P>|t|      [0.025      0.975]\n",
      "------------------------------------------------------------------------------\n",
      "Intercept     -5.4133      0.533    -10.149      0.000      -6.461      -4.365\n",
      "age           -0.1081      0.011    -10.122      0.000      -0.129      -0.087\n",
      "avg            9.6622      2.292      4.216      0.000       5.159      14.165\n",
      "OPS           10.9689      0.627     17.485      0.000       9.736      12.202\n",
      "==============================================================================\n",
      "Omnibus:                        0.865   Durbin-Watson:                   1.356\n",
      "Prob(Omnibus):                  0.649   Jarque-Bera (JB):                0.666\n",
      "Skew:                           0.056   Prob(JB):                        0.717\n",
      "Kurtosis:                       3.147   Cond. No.                     1.46e+03\n",
      "==============================================================================\n",
      "\n",
      "Notes:\n",
      "[1] Standard Errors assume that the covariance matrix of the errors is correctly specified.\n",
      "[2] The condition number is large, 1.46e+03. This might indicate that there are\n",
      "strong multicollinearity or other numerical problems.\n"
     ]
    }
   ],
   "source": [
    "\n",
    "# formula = \"종속변수 ~ 독립변수1 + 독립변수2 + ...\" 이 때 종속변수 행렬의 첫 열에 1은 안 붙여줘도(add_constant) 됨\n",
    "model2 = sm.OLS.from_formula(\"war ~ age + avg + OPS\", data=df_modify)\n",
    "result2 = model2.fit()\n",
    "print(result2.summary())"
   ]
  },
  {
   "cell_type": "code",
   "execution_count": 11,
   "metadata": {},
   "outputs": [
    {
     "name": "stdout",
     "output_type": "stream",
     "text": [
      "                            OLS Regression Results                            \n",
      "==============================================================================\n",
      "Dep. Variable:                    war   R-squared:                       0.665\n",
      "Model:                            OLS   Adj. R-squared:                  0.663\n",
      "Method:                 Least Squares   F-statistic:                     307.4\n",
      "Date:                Thu, 10 Jun 2021   Prob (F-statistic):          7.39e-110\n",
      "Time:                        23:19:06   Log-Likelihood:                -661.21\n",
      "No. Observations:                 468   AIC:                             1330.\n",
      "Df Residuals:                     464   BIC:                             1347.\n",
      "Df Model:                           3                                         \n",
      "Covariance Type:            nonrobust                                         \n",
      "==============================================================================\n",
      "                 coef    std err          t      P>|t|      [0.025      0.975]\n",
      "------------------------------------------------------------------------------\n",
      "Intercept      3.7138      0.046     80.486      0.000       3.623       3.804\n",
      "scale(age)    -0.4723      0.047    -10.122      0.000      -0.564      -0.381\n",
      "scale(avg)     0.2822      0.067      4.216      0.000       0.151       0.414\n",
      "scale(OPS)     1.1729      0.067     17.485      0.000       1.041       1.305\n",
      "==============================================================================\n",
      "Omnibus:                        0.865   Durbin-Watson:                   1.356\n",
      "Prob(Omnibus):                  0.649   Jarque-Bera (JB):                0.666\n",
      "Skew:                           0.056   Prob(JB):                        0.717\n",
      "Kurtosis:                       3.147   Cond. No.                         2.54\n",
      "==============================================================================\n",
      "\n",
      "Notes:\n",
      "[1] Standard Errors assume that the covariance matrix of the errors is correctly specified.\n"
     ]
    }
   ],
   "source": [
    "# 앞선 결과에서 [2] 조건수가 너무 크다. 다중공전성이나, 다른 수치적 문제가 있을 수 있다. 라는 진단이 내려짐\n",
    "# ops자체가 avg와 큰 연관이 있어 다중공전성(독립변수간에 강한 상관관계)이 의심되나,\n",
    "# 일단 age와 나머지 독립변수 간에 값의 범위가 상이하므로 scale 조정 문제일 수 있어 이 부분을 먼저 시도해보기로 한다.\n",
    "\n",
    "# formula에 scale()을 써주면 statsmodel에서 scale을 해준다.\n",
    "model3 = sm.OLS.from_formula(\"war ~ scale(age) + scale(avg) + scale(OPS)\", data=df_modify)\n",
    "result3 = model3.fit()\n",
    "print(result3.summary())"
   ]
  },
  {
   "cell_type": "code",
   "execution_count": 40,
   "metadata": {},
   "outputs": [
    {
     "name": "stdout",
     "output_type": "stream",
     "text": [
      "[ 3.71377137 -0.47229941  0.28223153  1.17293151]\n",
      "MSE : 0.988\n"
     ]
    }
   ],
   "source": [
    "# 파라미터 행렬 만들기\n",
    "coef2 = result3.params.to_numpy()\n",
    "print(coef2)\n",
    "\n",
    "# MSE (Mean Squared Error) 계산\n",
    "# mse2 = result3.mse_model\n",
    "# print(f\"mse : {mse2}\")\n",
    "y_pred2 = result3.predict(df_modify)\n",
    "y2 = df_modify['war'].to_numpy()\n",
    "print(f'MSE : {mean_squared_error(y2, y_pred2):.3f}')"
   ]
  },
  {
   "cell_type": "code",
   "execution_count": 13,
   "metadata": {},
   "outputs": [
    {
     "data": {
      "image/png": "[encoded data removed]",
      "text/plain": [
       "<Figure size 1224x360 with 3 Axes>"
      ]
     },
     "metadata": {
      "needs_background": "light"
     },
     "output_type": "display_data"
    }
   ],
   "source": [
    "# 각 독립변수별 그래프 출력하기\n",
    "import matplotlib.pyplot as plt\n",
    "# %matplotlib inline\n",
    "\n",
    "fig2 = plt.figure(figsize=[17,5])\n",
    "ax1_2 = fig2.add_subplot(131)\n",
    "ax2_2 = fig2.add_subplot(132)\n",
    "ax3_2 = fig2.add_subplot(133)\n",
    "\n",
    "# ax1 : 나이 - war 관계\n",
    "X_age2 = df_modify['age'].to_numpy()\n",
    "ax1_2.scatter(X_age2, y2, c='green', label='Real')\n",
    "ax1_2.scatter(X_age2, y_pred2, color='red', label='Predicted')\n",
    "ax1_2.legend(loc = 'upper right')\n",
    "ax1_2.set_xlabel('age')\n",
    "ax1_2.set_ylabel('war')\n",
    "\n",
    "# ax2 : 타율 - war 관계\n",
    "X_avg2 = df_modify['avg'].to_numpy()\n",
    "ax2_2.scatter(X_avg2, y2, c='green', label='Real')\n",
    "ax2_2.scatter(X_avg2, y_pred2, color='red', label='Predicted')\n",
    "ax2_2.legend(loc = 'upper left')\n",
    "ax2_2.set_xlabel('avg')\n",
    "ax2_2.set_ylabel('war')\n",
    "\n",
    "# ax3 : OPS - war 관계\n",
    "X_ops2 = df_modify['OPS'].to_numpy()\n",
    "ax3_2.scatter(X_ops2, y2, c='green', label='Real')\n",
    "ax3_2.scatter(X_ops2, y_pred2, color='red', label='Predicted')\n",
    "ax3_2.legend(loc = 'upper left')\n",
    "ax3_2.set_xlabel('OPS')\n",
    "ax3_2.set_ylabel('war')\n",
    "\n",
    "plt.show()"
   ]
  },
  {
   "cell_type": "code",
   "execution_count": 60,
   "metadata": {},
   "outputs": [
    {
     "name": "stdout",
     "output_type": "stream",
     "text": [
      "                            OLS Regression Results                            \n",
      "==============================================================================\n",
      "Dep. Variable:                    war   R-squared:                       0.646\n",
      "Model:                            OLS   Adj. R-squared:                  0.643\n",
      "Method:                 Least Squares   F-statistic:                     211.3\n",
      "Date:                Fri, 11 Jun 2021   Prob (F-statistic):           6.09e-78\n",
      "Time:                        02:15:12   Log-Likelihood:                -496.82\n",
      "No. Observations:                 351   AIC:                             1002.\n",
      "Df Residuals:                     347   BIC:                             1017.\n",
      "Df Model:                           3                                         \n",
      "Covariance Type:            nonrobust                                         \n",
      "==============================================================================\n",
      "                 coef    std err          t      P>|t|      [0.025      0.975]\n",
      "------------------------------------------------------------------------------\n",
      "Intercept      3.7106      0.053     69.362      0.000       3.605       3.816\n",
      "scale(age)    -0.5148      0.055     -9.442      0.000      -0.622      -0.408\n",
      "scale(avg)     0.2343      0.079      2.950      0.003       0.078       0.391\n",
      "scale(OPS)     1.1643      0.080     14.519      0.000       1.007       1.322\n",
      "==============================================================================\n",
      "Omnibus:                        2.694   Durbin-Watson:                   2.106\n",
      "Prob(Omnibus):                  0.260   Jarque-Bera (JB):                2.674\n",
      "Skew:                           0.092   Prob(JB):                        0.263\n",
      "Kurtosis:                       3.386   Cond. No.                         2.64\n",
      "==============================================================================\n",
      "\n",
      "Notes:\n",
      "[1] Standard Errors assume that the covariance matrix of the errors is correctly specified.\n"
     ]
    }
   ],
   "source": [
    "# Train data, test data 구분해서 training과 testing 수행\n",
    "\n",
    "# 데이터 분리\n",
    "from sklearn.model_selection import train_test_split\n",
    "df_mod_train, df_mod_test = train_test_split(df_modify, test_size=0.25, random_state=42)\n",
    "\n",
    "# train data로 모델 생성\n",
    "model4 = sm.OLS.from_formula(\"war ~ scale(age) + scale(avg) + scale(OPS)\", data=df_mod_train)\n",
    "result4 = model4.fit()\n",
    "print(result4.summary())"
   ]
  },
  {
   "cell_type": "code",
   "execution_count": 69,
   "metadata": {},
   "outputs": [
    {
     "name": "stdout",
     "output_type": "stream",
     "text": [
      "MSE\n",
      "train : 0.993, test : 0.992\n",
      "R^2\n",
      "train : 0.643, test : 0.699\n"
     ]
    }
   ],
   "source": [
    "# test data로 테스팅 후 정확도 확인\n",
    "y_train_pred = result4.predict(df_mod_train)\n",
    "y_test_pred = result4.predict(df_mod_test)\n",
    "y_train = df_mod_train['war'].to_numpy()\n",
    "y_test = df_mod_test['war'].to_numpy()\n",
    "\n",
    "# mse\n",
    "print(f'MSE\\ntrain : {mean_squared_error(y_train, y_train_pred):.3f}, test : {mean_squared_error(y_test, y_test_pred):.3f}')\n",
    "\n",
    "# adjusted R^2 --> train data는 statsmodels에서 알아서 구해줬으므로 test만 구하면 된다.\n",
    "# statsmodel에서 제공하는 적당한 라이브러리가 안 보이므로 직접 구하도록 하자.\n",
    "def adj_r_squared(y, y_pred):\n",
    "    n = len(y)    # 전체 test data 개수(n)\n",
    "    y_mean =  np.full(n, np.mean(y))    # y의 평균으로 채워진 vector 생성\n",
    "    denomicator = np.dot((y - y_mean), (y - y_mean))\n",
    "    denomicator = denomicator / (n - 1)    # 자유도로 나눠준다\n",
    "    numerator = np.dot((y - y_pred), (y - y_pred))\n",
    "    numerator = numerator / (n - 4)\n",
    "    adj_R_squared = 1 - numerator / denomicator\n",
    "    return adj_R_squared\n",
    "print(f'R^2\\ntrain : {result4.rsquared_adj:.3f}, test : {adj_r_squared(y_test, y_test_pred):.3f}')"
   ]
  }
 ],
 "metadata": {
  "kernelspec": {
   "display_name": "ML",
   "language": "python",
   "name": "ml"
  },
  "language_info": {
   "codemirror_mode": {
    "name": "ipython",
    "version": 3
   },
   "file_extension": ".py",
   "mimetype": "text/x-python",
   "name": "python",
   "nbconvert_exporter": "python",
   "pygments_lexer": "ipython3",
   "version": "3.7.9"
  },
  "toc": {
   "base_numbering": 1,
   "nav_menu": {},
   "number_sections": true,
   "sideBar": true,
   "skip_h1_title": false,
   "title_cell": "Table of Contents",
   "title_sidebar": "Contents",
   "toc_cell": false,
   "toc_position": {},
   "toc_section_display": true,
   "toc_window_display": false
  }
 },
 "nbformat": 4,
 "nbformat_minor": 5
}
