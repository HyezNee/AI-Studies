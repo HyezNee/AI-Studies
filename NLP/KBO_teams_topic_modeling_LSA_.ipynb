{
 "cells": [
  {
   "cell_type": "code",
   "execution_count": 1,
   "id": "3769355a",
   "metadata": {},
   "outputs": [],
   "source": [
    "from sklearn.feature_extraction.text import TfidfVectorizer"
   ]
  },
  {
   "cell_type": "code",
   "execution_count": 5,
   "id": "56611d57",
   "metadata": {},
   "outputs": [],
   "source": [
    "# 파일 Read\n",
    "def read_text(filename):\n",
    "    results = []\n",
    "    with open(f\"../datasets/kbo_corpus/kia_{filename}.txt\", 'r') as fr:\n",
    "        samsung = fr.read()\n",
    "    results.append(samsung.split('\\n'))\n",
    "    with open(f\"../datasets/kbo_corpus/samsung_{filename}.txt\", 'r') as fr:\n",
    "        kia = fr.read()\n",
    "    results.append(kia.split('\\n'))\n",
    "    with open(f\"../datasets/kbo_corpus/lotte_{filename}.txt\", 'r') as fr:\n",
    "        lotte = fr.read()\n",
    "    results.append(lotte.split('\\n'))\n",
    "    return results"
   ]
  },
  {
   "cell_type": "code",
   "execution_count": 6,
   "id": "1f6089ac",
   "metadata": {},
   "outputs": [
    {
     "data": {
      "text/plain": [
       "['정해영/NNP 올림픽/NNG 가다/VV 한심/NNG 사토/NNG 털릴준비하다/VV',\n",
       " '작년/NNG 황대/NNG 기회/NNG 안준거/NNP 진짜/MAG 아깝/VA',\n",
       " '작년/NNG 머인/NNG 군무대/NNG 처음/NNG 타석이상/NNG 한/NNG 것/NNB',\n",
       " '이민우/NNP 데뷔승/NNG 이후/NNG 승/NNG',\n",
       " '야구장/NNG 가다/VV 라다/VV 케텍스/NNP 한참/NNG 가다/VV 야되다/VV 않다/VV',\n",
       " '소형준/NNG 신인/NNG 시즌/NNG 경기/NNG 방어/NNG 점/NNB 대/NNG',\n",
       " '올해/NNG 쓰다/VV 않다/VV 거/NNB 씹민상/NNG 왜/MAG 썻/NNG',\n",
       " '근데/MAJ 설다/VV 프로필/NNG 존나/NNG 사/NNG 잘/MAG 찍다/VV 주다/VV',\n",
       " '황대/NNG 페/NNG 이/NNP 스북/NNG',\n",
       " '그러다/VV 황대인/NNG 점점/MAG 공/NNG 맞히다/VV']"
      ]
     },
     "execution_count": 6,
     "metadata": {},
     "output_type": "execute_result"
    }
   ],
   "source": [
    "cleaned_documents_morph = read_text('cleaned')\n",
    "cleaned_documents_morph[0][:10]"
   ]
  },
  {
   "cell_type": "code",
   "execution_count": 4,
   "id": "bbb863a4",
   "metadata": {},
   "outputs": [
    {
     "data": {
      "text/plain": [
       "['정해영/NNP', '올림픽/NNG', '한심/NNG', '사토/NNG']"
      ]
     },
     "execution_count": 4,
     "metadata": {},
     "output_type": "execute_result"
    }
   ],
   "source": [
    "'''\n",
    "import re\n",
    "p = re.compile('[가-힣A-Za-z0-9]+/NN.')\n",
    "mached_terms = re.findall(p, '정해영/NNP 올림픽/NNG 가다/VV 한심/NNG 사토/NNG 털릴준비하다/VV')\n",
    "mached_terms\n",
    "'''"
   ]
  },
  {
   "cell_type": "code",
   "execution_count": 7,
   "id": "66e4296c",
   "metadata": {},
   "outputs": [],
   "source": [
    "# morph (/ 뒤의 성분) 제거, 명사 성분만 남김\n",
    "import re\n",
    "p = re.compile('[가-힣A-Za-z0-9]+/NN.')\n",
    "cleaned_documents = []\n",
    "for i in range(3):\n",
    "    for sen in cleaned_documents_morph[i]:\n",
    "        sentence = ''\n",
    "        mached_terms = re.findall(p, sen) \n",
    "        for word in mached_terms:\n",
    "            lemma = word.split('/')[0]\n",
    "            sentence += lemma + ' '\n",
    "        cleaned_documents.append(sentence.strip())"
   ]
  },
  {
   "cell_type": "code",
   "execution_count": 8,
   "id": "f6b14b37",
   "metadata": {},
   "outputs": [
    {
     "data": {
      "text/plain": [
       "['정해영 올림픽 한심 사토',\n",
       " '작년 황대 기회 안준거',\n",
       " '작년 머인 군무대 처음 타석이상 한 것',\n",
       " '이민우 데뷔승 이후 승',\n",
       " '야구장 케텍스 한참',\n",
       " '소형준 신인 시즌 경기 방어 점 대',\n",
       " '올해 거 씹민상 썻',\n",
       " '프로필 존나 사',\n",
       " '황대 페 이 스북',\n",
       " '황대인 공']"
      ]
     },
     "execution_count": 8,
     "metadata": {},
     "output_type": "execute_result"
    }
   ],
   "source": [
    "cleaned_documents[:10]"
   ]
  },
  {
   "cell_type": "code",
   "execution_count": 38,
   "id": "5b76cbb3",
   "metadata": {},
   "outputs": [
    {
     "data": {
      "text/plain": [
       "(56561, 5000)"
      ]
     },
     "execution_count": 38,
     "metadata": {},
     "output_type": "execute_result"
    }
   ],
   "source": [
    "# tf-idf 행렬 생성\n",
    "vectorizer = TfidfVectorizer(max_features=5000, max_df = 0.5, smooth_idf=True)\n",
    "X = vectorizer.fit_transform(cleaned_documents)\n",
    "X.shape"
   ]
  },
  {
   "cell_type": "code",
   "execution_count": 43,
   "id": "c6e4da39",
   "metadata": {},
   "outputs": [
    {
     "data": {
      "text/plain": [
       "10"
      ]
     },
     "execution_count": 43,
     "metadata": {},
     "output_type": "execute_result"
    }
   ],
   "source": [
    "# 토픽 모델링 - Truncated SVD 이용, 차원 축소\n",
    "from sklearn.decomposition import TruncatedSVD\n",
    "svd_model = TruncatedSVD(n_components=10, algorithm='randomized', n_iter=500, random_state=42)\n",
    "svd_model.fit(X)\n",
    "len(svd_model.components_)    # VT의 행 개수 = topic 개수"
   ]
  },
  {
   "cell_type": "code",
   "execution_count": 44,
   "id": "092f05aa",
   "metadata": {},
   "outputs": [
    {
     "data": {
      "text/plain": [
       "(10, 5000)"
      ]
     },
     "execution_count": 44,
     "metadata": {},
     "output_type": "execute_result"
    }
   ],
   "source": [
    "import numpy as np\n",
    "np.shape(svd_model.components_)"
   ]
  },
  {
   "cell_type": "code",
   "execution_count": 47,
   "id": "f2fcc26b",
   "metadata": {},
   "outputs": [],
   "source": [
    "terms = vectorizer.get_feature_names()    # 단어 집합\n",
    "\n",
    "# 각 topic의 1000개 단어 중 값이 큰 상위 n개를 출력\n",
    "def get_topics(components, feature_names, n=5):\n",
    "    # i : topic의 index, j : term의 index\n",
    "    for i, topic in enumerate(components):\n",
    "        print(f\"Topic {i+1}:\", [(feature_names[j], topic[j].round(5)) for j in topic.argsort()[:-(n+1):-1]])\n",
    "        # 마지막 [:-(n+1):-1] -> sort된 numpy 결과값을 뒤집어 내림차순 정렬"
   ]
  },
  {
   "cell_type": "code",
   "execution_count": 48,
   "id": "bccf5140",
   "metadata": {},
   "outputs": [
    {
     "name": "stdout",
     "output_type": "stream",
     "text": [
      "Topic 1: [('오늘', 0.98334), ('경기', 0.14692), ('새끼', 0.06009), ('진짜', 0.02428), ('이유', 0.02334)]\n",
      "Topic 2: [('새끼', 0.89661), ('진짜', 0.28383), ('시발', 0.26993), ('개추', 0.12763), ('요즘', 0.05484)]\n",
      "Topic 3: [('시발', 0.84309), ('진짜', 0.36193), ('내일', 0.08098), ('경기', 0.04741), ('선발', 0.03099)]\n",
      "Topic 4: [('진짜', 0.81852), ('내일', 0.25548), ('경기', 0.08824), ('선발', 0.07179), ('투수', 0.06144)]\n",
      "Topic 5: [('내일', 0.89595), ('경기', 0.22458), ('선발', 0.18835), ('투수', 0.05542), ('야구', 0.0326)]\n",
      "Topic 6: [('경기', 0.94598), ('시즌', 0.06334), ('작년', 0.06192), ('올해', 0.05015), ('어제', 0.03439)]\n",
      "Topic 7: [('투수', 0.81163), ('야구', 0.38733), ('선발', 0.21934), ('선수', 0.20601), ('올해', 0.1621)]\n",
      "Topic 8: [('야구', 0.77232), ('선수', 0.39408), ('요즘', 0.07512), ('올해', 0.05247), ('사람', 0.03195)]\n",
      "Topic 9: [('올해', 0.94176), ('시즌', 0.11572), ('작년', 0.1109), ('이유', 0.07996), ('홈런', 0.06268)]\n",
      "Topic 10: [('선발', 0.89285), ('시즌', 0.11726), ('선수', 0.0935), ('다음', 0.05337), ('의리', 0.04311)]\n"
     ]
    }
   ],
   "source": [
    "get_topics(svd_model.components_, terms)\n",
    "# topic modeling이 제대로 안 됨. 역시 데이터가 안 좋은가 보다.\n",
    "# 그 와중에 욕 비중 무엇....... 익명 커뮤니티라서 그런가...?"
   ]
  }
 ],
 "metadata": {
  "kernelspec": {
   "display_name": "nlp",
   "language": "python",
   "name": "nlp"
  },
  "language_info": {
   "codemirror_mode": {
    "name": "ipython",
    "version": 3
   },
   "file_extension": ".py",
   "mimetype": "text/x-python",
   "name": "python",
   "nbconvert_exporter": "python",
   "pygments_lexer": "ipython3",
   "version": "3.8.10"
  }
 },
 "nbformat": 4,
 "nbformat_minor": 5
}
