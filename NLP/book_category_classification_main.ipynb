{
 "cells": [
  {
   "cell_type": "code",
   "execution_count": 1,
   "id": "d19eb42f",
   "metadata": {},
   "outputs": [],
   "source": [
    "import csv\n",
    "import pickle\n",
    "\n",
    "import gensim\n",
    "from gensim import models\n",
    "from sklearn.linear_model import LogisticRegression\n",
    "from sklearn.model_selection import train_test_split\n",
    "from sklearn.metrics import classification_report\n",
    "# 오차행렬(TP, TN, FP, FN) 구하는 모듈 임포트\n",
    "from sklearn.metrics import confusion_matrix"
   ]
  },
  {
   "cell_type": "code",
   "execution_count": 3,
   "id": "8f0f5f45",
   "metadata": {},
   "outputs": [],
   "source": [
    "dataset_file_name = './dataset/corpus_myself.csv'\n",
    "model_file_name = 'logistic.pkl'"
   ]
  },
  {
   "cell_type": "code",
   "execution_count": 4,
   "id": "e2c3b9dd",
   "metadata": {},
   "outputs": [
    {
     "name": "stdout",
     "output_type": "stream",
     "text": [
      "sum_words :  63192\n"
     ]
    }
   ],
   "source": [
    "# csv 파일로부터 X, y 데이터를 list타입으로 얻기\n",
    "\n",
    "with open(dataset_file_name, 'r') as file:\n",
    "    csv.field_size_limit(1000000)    # 필드 당 제한 길이 정하기\n",
    "    data = list(csv.reader(file))    # csv 파일을 불러와 row단위로 list를 만든 후 필드를 기준(,를 기준)으로 split 함\n",
    "\n",
    "# texts : 단어가 들어간 data (X)\n",
    "# label_ids : label을 one-in-hot incoding해서 저장 (Y)\n",
    "texts, label_ids = [], []\n",
    "label2id = {}    # label값을 key, 여기에 들어간 순서(ID)를 value로 하는 딕셔너리\n",
    "id2label = []\n",
    "IDX_LABEL, IDX_SENTENCE = 0, 1\n",
    "sum_words = []\n",
    "\n",
    "for counter, row in enumerate(data):\n",
    "    # if counter == 0:    #왜 첫 줄을 뺌..?\n",
    "    #     continue\n",
    "    label = row[IDX_LABEL]    # 해당 row의 라벨값 불러오기\n",
    "    if label not in label2id:    # label이 딕셔너리에 없을 경우\n",
    "        label2id[label] = len(label2id)\n",
    "        id2label.append(label)\n",
    "    label_ids.append(label2id[label])    # label을 one in hot encoding해서 추가\n",
    "    \n",
    "    # 단어 개수 합 구하기\n",
    "    word_list = row[IDX_SENTENCE].split(' ')\n",
    "    for word in word_list:\n",
    "        sum_words.append(word)\n",
    "    \n",
    "    texts.append(word_list)    # 단어 단위로 분할한 데이터를 texts에 저장\n",
    "\n",
    "print('sum_words : ', len(sum_words))\n",
    "# id2label = {v: k for k, v in label2id.items()}"
   ]
  },
  {
   "cell_type": "code",
   "execution_count": 5,
   "id": "ef7edda6",
   "metadata": {},
   "outputs": [],
   "source": [
    "# 텍스트와 라벨을 train과 test에 분할\n",
    "X_train_texts, X_test_texts, y_train, y_test = train_test_split(texts, label_ids, test_size=0.2, random_state=42)"
   ]
  },
  {
   "cell_type": "code",
   "execution_count": 6,
   "id": "5579c273",
   "metadata": {},
   "outputs": [
    {
     "name": "stdout",
     "output_type": "stream",
     "text": [
      "Dictionary(13280 unique tokens: ['광물', '나침반', '띤', '막대', '올메크']...)\n",
      "[(0, 1), (1, 1), (2, 1), (3, 1), (4, 1), (5, 1), (6, 1), (7, 1)]\n",
      "[(0, 0.31731451891427054),\n",
      " (1, 0.32318201730167934),\n",
      " (2, 0.39224187709400915),\n",
      " (3, 0.26641977830938135),\n",
      " (4, 0.3375132330560574),\n",
      " (5, 0.39224187709400915),\n",
      " (6, 0.4267718069901741),\n",
      " (7, 0.3465957926497777)]\n",
      "[0.3173145  0.32318202 0.39224187 ... 0.         0.         0.        ]\n"
     ]
    }
   ],
   "source": [
    "import pprint\n",
    "import numpy as np\n",
    "# train의 텍스트 데이터로부터 tf-idf를 계산해 해당 값으로 가중치를 부여한 행렬 작성\n",
    "\n",
    "# 텍스트 데이터로부터 사전을 작성\n",
    "dictionary = gensim.corpora.Dictionary(X_train_texts)\n",
    "print(dictionary)\n",
    "# 사전을 이용하여 BoW형식으로 문장을 행렬화\n",
    "# (해당 토큰(단어)의 딕셔너리 ID, 해당 토큰이 현재 몇 번째 등장하는지)\n",
    "# doc2bow의 파라미터에는 string을 원소로 가지는 list가 들어감\n",
    "corpus = [dictionary.doc2bow(text) for text in X_train_texts]\n",
    "\n",
    "# tf-idf 이용하여 가중치 부여\n",
    "tfidf_model = models.TfidfModel(corpus)    # 모델 불러오기\n",
    "tfidf_corpus = tfidf_model[corpus]    # (토큰 ID, 가중치)\n",
    "print(corpus[0])\n",
    "pprint.pprint(tfidf_corpus[0])\n",
    "\n",
    "'''\n",
    "# 다른 문서와 유사도 구하기\n",
    "from gensim import similarities\n",
    "index = similarities.SparseMatrixSimilarity(tfidf_corpus, num_features=13280)    # 유사도 행렬 생성\n",
    "query_document = '코딩이 너무 하기 싫어'.split(' ')\n",
    "query_bow = dictionary.doc2bow(query_document)\n",
    "sims = index[tfidf_model[query_bow]]\n",
    "print(list(enumerate(sims)))    # (딕셔너리 ID, 유사도)\n",
    "'''\n",
    "\n",
    "num_words = len(dictionary)\n",
    "num_sentences = len(X_train_texts)\n",
    "# BoW 형태의 데이터를 dense matrix로 바꾸어줌 (근데 sparse matrix아닌가..?)\n",
    "# 문서 당 하나의 열로 나타나므로 전치시켜주자. (.T)\n",
    "X_train_tfidf = gensim.matutils.corpus2dense(tfidf_corpus, num_terms=num_words, num_docs=num_sentences).T\n",
    "print(X_train_tfidf[0])"
   ]
  },
  {
   "cell_type": "code",
   "execution_count": 7,
   "id": "917fe48e",
   "metadata": {},
   "outputs": [],
   "source": [
    "# test의 텍스트 데이터에도 위와 똑같이 수행 (tf-idf 가중치 행렬 작성)\n",
    "# 기존의 train 데이터로 만든 사전 이용하여 text data를 BoW행렬로 만듦\n",
    "corpus_test = [dictionary.doc2bow(text) for text in X_test_texts]\n",
    "tfidf_corpus_test = tfidf_model[corpus_test]\n",
    "num_sentences_test = len(X_test_texts)\n",
    "\n",
    "X_test_tfidf = gensim.matutils.corpus2dense(tfidf_corpus_test, num_terms=num_words, num_docs=num_sentences_test).T"
   ]
  },
  {
   "cell_type": "code",
   "execution_count": 8,
   "id": "bffbfa6d",
   "metadata": {},
   "outputs": [
    {
     "data": {
      "text/plain": [
       "LogisticRegression(C=1.0, class_weight=None, dual=False, fit_intercept=True,\n",
       "          intercept_scaling=1, max_iter=100, multi_class='multinomial',\n",
       "          n_jobs=None, penalty='l2', random_state=None, solver='lbfgs',\n",
       "          tol=0.0001, verbose=0, warm_start=False)"
      ]
     },
     "execution_count": 8,
     "metadata": {},
     "output_type": "execute_result"
    }
   ],
   "source": [
    "# train 데이터를 이용하여 분류기 구축\n",
    "# 이 때 로지스틱 회귀를 사용\n",
    "\n",
    "clf = LogisticRegression(multi_class='multinomial', solver='lbfgs')    # C=1.0, penalty='l2' (default)\n",
    "clf.fit(X_train_tfidf, y_train)"
   ]
  },
  {
   "cell_type": "code",
   "execution_count": 9,
   "id": "5d1ec21d",
   "metadata": {},
   "outputs": [
    {
     "name": "stdout",
     "output_type": "stream",
     "text": [
      "              precision    recall  f1-score   support\n",
      "\n",
      "     economy       0.89      0.85      0.87       433\n",
      "  humanities       0.84      0.85      0.85       447\n",
      "     science       0.82      0.86      0.84       434\n",
      "\n",
      "   micro avg       0.85      0.85      0.85      1314\n",
      "   macro avg       0.85      0.85      0.85      1314\n",
      "weighted avg       0.85      0.85      0.85      1314\n",
      "\n",
      "[[367  25  41]\n",
      " [ 28 379  40]\n",
      " [ 17  45 372]]\n"
     ]
    }
   ],
   "source": [
    "# test 데이터 이용해 분류기의 정밀도 평가 (accuracy, precision, recall, f1-score)\n",
    "y_pred = clf.predict(X_test_tfidf)\n",
    "target_names = id2label\n",
    "\n",
    "print(classification_report(y_test, y_pred, target_names=target_names))\n",
    "print(confusion_matrix(y_test, y_pred))\n",
    "\n",
    "# Micro average : averaging the total true positives, false negatives and false positives\n",
    "# macro average : averaging the unweighted mean per label\n",
    "# weighted average : averaging the support-weighted mean per label"
   ]
  },
  {
   "cell_type": "code",
   "execution_count": null,
   "id": "38e8e783",
   "metadata": {},
   "outputs": [],
   "source": [
    "# 이번에는 statsmodel로 Logistic Regression을 해보자.\n",
    "import statsmodels.api as sm\n",
    "\n",
    "X_train_tfidf_const = sm.add_constant(X_train_tfidf)\n",
    "clf2 = sm.MNLogit(y_train, X_train_tfidf_const, check_rank=False)\n",
    "result = clf2.fit()\n",
    "print(result.summary())"
   ]
  }
 ],
 "metadata": {
  "kernelspec": {
   "display_name": "math-ai",
   "language": "python",
   "name": "math-ai"
  },
  "language_info": {
   "codemirror_mode": {
    "name": "ipython",
    "version": 3
   },
   "file_extension": ".py",
   "mimetype": "text/x-python",
   "name": "python",
   "nbconvert_exporter": "python",
   "pygments_lexer": "ipython3",
   "version": "3.6.13"
  }
 },
 "nbformat": 4,
 "nbformat_minor": 5
}
