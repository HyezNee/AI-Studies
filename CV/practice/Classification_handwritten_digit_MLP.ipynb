{
 "cells": [
  {
   "cell_type": "code",
   "execution_count": 11,
   "id": "a7c66d6c",
   "metadata": {},
   "outputs": [],
   "source": [
    "import numpy as np\n",
    "from tensorflow.keras.layers import LayerNormalization\n",
    "from tensorflow.keras.models import Sequential\n",
    "from tensorflow.keras.datasets import mnist\n",
    "from tensorflow.keras.layers import Dense, Dropout, Activation, BatchNormalization\n",
    "import matplotlib.pyplot as plt\n",
    "%matplotlib inline\n",
    "# import h5py"
   ]
  },
  {
   "cell_type": "code",
   "execution_count": 12,
   "id": "ebbd8d77",
   "metadata": {},
   "outputs": [],
   "source": [
    "# hyperparameter\n",
    "batch_size = 2000\n",
    "epochs = 100"
   ]
  },
  {
   "cell_type": "code",
   "execution_count": 13,
   "id": "468e31b3",
   "metadata": {},
   "outputs": [
    {
     "data": {
      "text/plain": [
       "(60000, 28, 28)"
      ]
     },
     "execution_count": 13,
     "metadata": {},
     "output_type": "execute_result"
    }
   ],
   "source": [
    "# 데이터 추출\n",
    "(x_train, y_train), (x_test, y_test) = mnist.load_data()\n",
    "num_classes = 10\n",
    "np.shape(x_train)\n",
    "# 28*28 손글씨 데이터셋 60000장"
   ]
  },
  {
   "cell_type": "code",
   "execution_count": 14,
   "id": "9e78e25c",
   "metadata": {},
   "outputs": [
    {
     "name": "stdout",
     "output_type": "stream",
     "text": [
      "60000 train samples\n",
      "10000 test samples\n"
     ]
    }
   ],
   "source": [
    "# CNN 안 쓸거니까 그냥 1-D vector로 만들어주자\n",
    "x_train = x_train.reshape(60000, 784)\n",
    "x_test = x_test.reshape(10000, 784)\n",
    "# 0 ~ 1으로 정규화\n",
    "x_train = x_train.astype('float32')\n",
    "x_test = x_test.astype('float32')\n",
    "x_train /= 255\n",
    "x_test /=255\n",
    "print(x_train.shape[0], 'train samples')\n",
    "print(x_test.shape[0], 'test samples')"
   ]
  },
  {
   "cell_type": "code",
   "execution_count": 15,
   "id": "81425a7f",
   "metadata": {},
   "outputs": [],
   "source": [
    "# one-hot labels\n",
    "from tensorflow.keras.utils import to_categorical\n",
    "\n",
    "y_train = to_categorical(y_train, num_classes)\n",
    "y_test = to_categorical(y_test, num_classes)"
   ]
  },
  {
   "cell_type": "code",
   "execution_count": 16,
   "id": "8380c1c5",
   "metadata": {},
   "outputs": [
    {
     "data": {
      "text/plain": [
       "True"
      ]
     },
     "execution_count": 16,
     "metadata": {},
     "output_type": "execute_result"
    }
   ],
   "source": [
    "import tensorflow as tf\n",
    "# tf.config.list_physical_devices('GPU') --> 나중 버전에선 이 함수를 사용하자!\n",
    "tf.test.is_gpu_available()"
   ]
  },
  {
   "cell_type": "code",
   "execution_count": 17,
   "id": "49a7f19e",
   "metadata": {
    "scrolled": true
   },
   "outputs": [
    {
     "name": "stdout",
     "output_type": "stream",
     "text": [
      "Model: \"sequential_2\"\n",
      "_________________________________________________________________\n",
      "Layer (type)                 Output Shape              Param #   \n",
      "=================================================================\n",
      "input (Dense)                (None, 256)               200960    \n",
      "_________________________________________________________________\n",
      "dropout_6 (Dropout)          (None, 256)               0         \n",
      "_________________________________________________________________\n",
      "hidden1 (Dense)              (None, 128)               32896     \n",
      "_________________________________________________________________\n",
      "dropout_7 (Dropout)          (None, 128)               0         \n",
      "_________________________________________________________________\n",
      "hidden2 (Dense)              (None, 32)                4128      \n",
      "_________________________________________________________________\n",
      "dropout_8 (Dropout)          (None, 32)                0         \n",
      "_________________________________________________________________\n",
      "output (Dense)               (None, 10)                330       \n",
      "=================================================================\n",
      "Total params: 238,314\n",
      "Trainable params: 238,314\n",
      "Non-trainable params: 0\n",
      "_________________________________________________________________\n"
     ]
    }
   ],
   "source": [
    "# 모델 구축 : Sequential\n",
    "model = Sequential([\n",
    "    Dense(256, activation='relu', name='input', input_shape=(784,)),\n",
    "    Dropout(0.1),    # 0.9의 weights만 사용\n",
    "    Dense(128, activation='relu', name='hidden1'),\n",
    "    Dropout(0.1),\n",
    "    Dense(32, activation='relu', name='hidden2'),\n",
    "    Dropout(0.1),\n",
    "    Dense(10, activation='softmax', name='output')\n",
    "])\n",
    "\n",
    "model.summary()\n",
    "\n",
    "# EagerNameValueError..? 같은 거 뜨길래 뭐지 했는데... conda를 전체적으로 update하니 해결되었다.\n",
    "# tensorflow 2.3에서 발생하는 버그..?같은 거일듯.. (근데 update해도 tenserflow 버전은 동일한데 왜 에러가 안 뜨는 거지.....)"
   ]
  },
  {
   "cell_type": "code",
   "execution_count": 18,
   "id": "21ec3f5e",
   "metadata": {},
   "outputs": [
    {
     "name": "stdout",
     "output_type": "stream",
     "text": [
      "Epoch 1/100\n",
      "30/30 [==============================] - 1s 39ms/step - loss: 1.0267 - accuracy: 0.6877 - val_loss: 0.4294 - val_accuracy: 0.8835\n",
      "Epoch 2/100\n",
      "30/30 [==============================] - 1s 20ms/step - loss: 0.4473 - accuracy: 0.8693 - val_loss: 0.3333 - val_accuracy: 0.9038\n",
      "Epoch 3/100\n",
      "30/30 [==============================] - 1s 20ms/step - loss: 0.3235 - accuracy: 0.9064 - val_loss: 0.2225 - val_accuracy: 0.9332\n",
      "Epoch 4/100\n",
      "30/30 [==============================] - 1s 20ms/step - loss: 0.2572 - accuracy: 0.9262 - val_loss: 0.1869 - val_accuracy: 0.9458\n",
      "Epoch 5/100\n",
      "30/30 [==============================] - 1s 20ms/step - loss: 0.2107 - accuracy: 0.9385 - val_loss: 0.1591 - val_accuracy: 0.9523\n",
      "Epoch 6/100\n",
      "30/30 [==============================] - 1s 20ms/step - loss: 0.1809 - accuracy: 0.9470 - val_loss: 0.1361 - val_accuracy: 0.9584\n",
      "Epoch 7/100\n",
      "30/30 [==============================] - 1s 20ms/step - loss: 0.1568 - accuracy: 0.9542 - val_loss: 0.1124 - val_accuracy: 0.9668\n",
      "Epoch 8/100\n",
      "30/30 [==============================] - 1s 20ms/step - loss: 0.1339 - accuracy: 0.9613 - val_loss: 0.1065 - val_accuracy: 0.9674\n",
      "Epoch 9/100\n",
      "30/30 [==============================] - 1s 20ms/step - loss: 0.1179 - accuracy: 0.9650 - val_loss: 0.0945 - val_accuracy: 0.9715\n",
      "Epoch 10/100\n",
      "30/30 [==============================] - 1s 20ms/step - loss: 0.1071 - accuracy: 0.9681 - val_loss: 0.0929 - val_accuracy: 0.9715\n",
      "Epoch 11/100\n",
      "30/30 [==============================] - 1s 20ms/step - loss: 0.0941 - accuracy: 0.9727 - val_loss: 0.0934 - val_accuracy: 0.9709\n",
      "Epoch 12/100\n",
      "30/30 [==============================] - 1s 20ms/step - loss: 0.0861 - accuracy: 0.9742 - val_loss: 0.0817 - val_accuracy: 0.9755\n",
      "Epoch 13/100\n",
      "30/30 [==============================] - 1s 20ms/step - loss: 0.0802 - accuracy: 0.9759 - val_loss: 0.0757 - val_accuracy: 0.9761\n",
      "Epoch 14/100\n",
      "30/30 [==============================] - 1s 20ms/step - loss: 0.0667 - accuracy: 0.9796 - val_loss: 0.0740 - val_accuracy: 0.9774\n",
      "Epoch 15/100\n",
      "30/30 [==============================] - 1s 20ms/step - loss: 0.0648 - accuracy: 0.9803 - val_loss: 0.0742 - val_accuracy: 0.9783\n",
      "Epoch 16/100\n",
      "30/30 [==============================] - 1s 20ms/step - loss: 0.0577 - accuracy: 0.9820 - val_loss: 0.0723 - val_accuracy: 0.9792\n",
      "Epoch 17/100\n",
      "30/30 [==============================] - 1s 20ms/step - loss: 0.0537 - accuracy: 0.9833 - val_loss: 0.0685 - val_accuracy: 0.9798\n",
      "Epoch 18/100\n",
      "30/30 [==============================] - 1s 20ms/step - loss: 0.0458 - accuracy: 0.9863 - val_loss: 0.0708 - val_accuracy: 0.9801\n",
      "Epoch 19/100\n",
      "30/30 [==============================] - 1s 20ms/step - loss: 0.0446 - accuracy: 0.9860 - val_loss: 0.0713 - val_accuracy: 0.9793\n",
      "Epoch 20/100\n",
      "30/30 [==============================] - 1s 21ms/step - loss: 0.0399 - accuracy: 0.9874 - val_loss: 0.0793 - val_accuracy: 0.9778\n",
      "Epoch 21/100\n",
      "30/30 [==============================] - 1s 20ms/step - loss: 0.0357 - accuracy: 0.9891 - val_loss: 0.0716 - val_accuracy: 0.9800\n",
      "Epoch 22/100\n",
      "30/30 [==============================] - 1s 20ms/step - loss: 0.0380 - accuracy: 0.9878 - val_loss: 0.0647 - val_accuracy: 0.9814\n",
      "Epoch 23/100\n",
      "30/30 [==============================] - 1s 20ms/step - loss: 0.0310 - accuracy: 0.9900 - val_loss: 0.0727 - val_accuracy: 0.9800\n",
      "Epoch 24/100\n",
      "30/30 [==============================] - 1s 20ms/step - loss: 0.0287 - accuracy: 0.9913 - val_loss: 0.0662 - val_accuracy: 0.9818\n",
      "Epoch 25/100\n",
      "30/30 [==============================] - 1s 20ms/step - loss: 0.0269 - accuracy: 0.9916 - val_loss: 0.0703 - val_accuracy: 0.9814\n",
      "Epoch 26/100\n",
      "30/30 [==============================] - 1s 20ms/step - loss: 0.0253 - accuracy: 0.9919 - val_loss: 0.0704 - val_accuracy: 0.9820\n",
      "Epoch 27/100\n",
      "30/30 [==============================] - 1s 21ms/step - loss: 0.0227 - accuracy: 0.9926 - val_loss: 0.0736 - val_accuracy: 0.9812\n",
      "Epoch 28/100\n",
      "30/30 [==============================] - 1s 20ms/step - loss: 0.0221 - accuracy: 0.9933 - val_loss: 0.0678 - val_accuracy: 0.9823\n",
      "Epoch 29/100\n",
      "30/30 [==============================] - 1s 20ms/step - loss: 0.0184 - accuracy: 0.9942 - val_loss: 0.0658 - val_accuracy: 0.9829\n",
      "Epoch 30/100\n",
      "30/30 [==============================] - 1s 20ms/step - loss: 0.0192 - accuracy: 0.9941 - val_loss: 0.0722 - val_accuracy: 0.9817\n",
      "Epoch 31/100\n",
      "30/30 [==============================] - 1s 20ms/step - loss: 0.0183 - accuracy: 0.9939 - val_loss: 0.0729 - val_accuracy: 0.9804\n",
      "Epoch 32/100\n",
      "30/30 [==============================] - 1s 20ms/step - loss: 0.0161 - accuracy: 0.9951 - val_loss: 0.0759 - val_accuracy: 0.9828\n",
      "Epoch 33/100\n",
      "30/30 [==============================] - 1s 20ms/step - loss: 0.0144 - accuracy: 0.9953 - val_loss: 0.0743 - val_accuracy: 0.9817\n",
      "Epoch 34/100\n",
      "30/30 [==============================] - 1s 20ms/step - loss: 0.0160 - accuracy: 0.9949 - val_loss: 0.0700 - val_accuracy: 0.9828\n",
      "Epoch 35/100\n",
      "30/30 [==============================] - 1s 21ms/step - loss: 0.0144 - accuracy: 0.9953 - val_loss: 0.0836 - val_accuracy: 0.9809\n",
      "Epoch 36/100\n",
      "30/30 [==============================] - 1s 20ms/step - loss: 0.0126 - accuracy: 0.9959 - val_loss: 0.0820 - val_accuracy: 0.9804\n",
      "Epoch 37/100\n",
      "30/30 [==============================] - 1s 20ms/step - loss: 0.0126 - accuracy: 0.9959 - val_loss: 0.0762 - val_accuracy: 0.9827\n",
      "Epoch 38/100\n",
      "30/30 [==============================] - 1s 20ms/step - loss: 0.0125 - accuracy: 0.9960 - val_loss: 0.0777 - val_accuracy: 0.9828\n",
      "Epoch 39/100\n",
      "30/30 [==============================] - 1s 20ms/step - loss: 0.0106 - accuracy: 0.9968 - val_loss: 0.0851 - val_accuracy: 0.9811\n",
      "Epoch 40/100\n",
      "30/30 [==============================] - 1s 21ms/step - loss: 0.0111 - accuracy: 0.9966 - val_loss: 0.0746 - val_accuracy: 0.9839\n",
      "Epoch 41/100\n",
      "30/30 [==============================] - 1s 20ms/step - loss: 0.0117 - accuracy: 0.9963 - val_loss: 0.0752 - val_accuracy: 0.9832\n",
      "Epoch 42/100\n",
      "30/30 [==============================] - 1s 20ms/step - loss: 0.0088 - accuracy: 0.9973 - val_loss: 0.0804 - val_accuracy: 0.9832\n",
      "Epoch 43/100\n",
      "30/30 [==============================] - 1s 21ms/step - loss: 0.0090 - accuracy: 0.9972 - val_loss: 0.0846 - val_accuracy: 0.9826\n",
      "Epoch 44/100\n",
      "30/30 [==============================] - 1s 20ms/step - loss: 0.0103 - accuracy: 0.9966 - val_loss: 0.0791 - val_accuracy: 0.9835\n",
      "Epoch 45/100\n",
      "30/30 [==============================] - 1s 20ms/step - loss: 0.0087 - accuracy: 0.9969 - val_loss: 0.0799 - val_accuracy: 0.9824\n",
      "Epoch 46/100\n",
      "30/30 [==============================] - 1s 20ms/step - loss: 0.0089 - accuracy: 0.9969 - val_loss: 0.0823 - val_accuracy: 0.9834\n",
      "Epoch 47/100\n",
      "30/30 [==============================] - 1s 20ms/step - loss: 0.0070 - accuracy: 0.9980 - val_loss: 0.0854 - val_accuracy: 0.9825\n",
      "Epoch 48/100\n",
      "30/30 [==============================] - 1s 20ms/step - loss: 0.0083 - accuracy: 0.9974 - val_loss: 0.0907 - val_accuracy: 0.9814\n",
      "Epoch 49/100\n",
      "30/30 [==============================] - 1s 20ms/step - loss: 0.0073 - accuracy: 0.9978 - val_loss: 0.0876 - val_accuracy: 0.9827\n",
      "Epoch 50/100\n",
      "30/30 [==============================] - 1s 20ms/step - loss: 0.0067 - accuracy: 0.9979 - val_loss: 0.0780 - val_accuracy: 0.9832\n",
      "Epoch 51/100\n",
      "30/30 [==============================] - 1s 20ms/step - loss: 0.0086 - accuracy: 0.9972 - val_loss: 0.0796 - val_accuracy: 0.9826\n",
      "Epoch 52/100\n",
      "30/30 [==============================] - 1s 20ms/step - loss: 0.0067 - accuracy: 0.9978 - val_loss: 0.0853 - val_accuracy: 0.9838\n",
      "Epoch 53/100\n",
      "30/30 [==============================] - 1s 20ms/step - loss: 0.0073 - accuracy: 0.9977 - val_loss: 0.0863 - val_accuracy: 0.9823\n",
      "Epoch 54/100\n",
      "30/30 [==============================] - 1s 20ms/step - loss: 0.0062 - accuracy: 0.9981 - val_loss: 0.0887 - val_accuracy: 0.9838\n",
      "Epoch 55/100\n",
      "30/30 [==============================] - 1s 21ms/step - loss: 0.0055 - accuracy: 0.9982 - val_loss: 0.0890 - val_accuracy: 0.9827\n",
      "Epoch 56/100\n",
      "30/30 [==============================] - 1s 20ms/step - loss: 0.0058 - accuracy: 0.9982 - val_loss: 0.0901 - val_accuracy: 0.9835\n",
      "Epoch 57/100\n",
      "30/30 [==============================] - 1s 20ms/step - loss: 0.0058 - accuracy: 0.9981 - val_loss: 0.0880 - val_accuracy: 0.9836\n",
      "Epoch 58/100\n"
     ]
    },
    {
     "name": "stdout",
     "output_type": "stream",
     "text": [
      "30/30 [==============================] - 1s 20ms/step - loss: 0.0061 - accuracy: 0.9977 - val_loss: 0.0875 - val_accuracy: 0.9832\n",
      "Epoch 59/100\n",
      "30/30 [==============================] - 1s 20ms/step - loss: 0.0045 - accuracy: 0.9987 - val_loss: 0.0907 - val_accuracy: 0.9831\n",
      "Epoch 60/100\n",
      "30/30 [==============================] - 1s 20ms/step - loss: 0.0056 - accuracy: 0.9981 - val_loss: 0.0958 - val_accuracy: 0.9825\n",
      "Epoch 61/100\n",
      "30/30 [==============================] - 1s 20ms/step - loss: 0.0052 - accuracy: 0.9984 - val_loss: 0.1045 - val_accuracy: 0.9818\n",
      "Epoch 62/100\n",
      "30/30 [==============================] - 1s 20ms/step - loss: 0.0054 - accuracy: 0.9980 - val_loss: 0.0919 - val_accuracy: 0.9821\n",
      "Epoch 63/100\n",
      "30/30 [==============================] - 1s 20ms/step - loss: 0.0053 - accuracy: 0.9984 - val_loss: 0.0909 - val_accuracy: 0.9834\n",
      "Epoch 64/100\n",
      "30/30 [==============================] - 1s 22ms/step - loss: 0.0043 - accuracy: 0.9988 - val_loss: 0.0917 - val_accuracy: 0.9829\n",
      "Epoch 65/100\n",
      "30/30 [==============================] - 1s 21ms/step - loss: 0.0045 - accuracy: 0.9984 - val_loss: 0.0937 - val_accuracy: 0.9831\n",
      "Epoch 66/100\n",
      "30/30 [==============================] - 1s 20ms/step - loss: 0.0051 - accuracy: 0.9985 - val_loss: 0.0888 - val_accuracy: 0.9839\n",
      "Epoch 67/100\n",
      "30/30 [==============================] - 1s 20ms/step - loss: 0.0041 - accuracy: 0.9987 - val_loss: 0.0890 - val_accuracy: 0.9839\n",
      "Epoch 68/100\n",
      "30/30 [==============================] - 1s 20ms/step - loss: 0.0048 - accuracy: 0.9984 - val_loss: 0.0920 - val_accuracy: 0.9829\n",
      "Epoch 69/100\n",
      "30/30 [==============================] - 1s 20ms/step - loss: 0.0043 - accuracy: 0.9986 - val_loss: 0.0978 - val_accuracy: 0.9834\n",
      "Epoch 70/100\n",
      "30/30 [==============================] - 1s 20ms/step - loss: 0.0045 - accuracy: 0.9985 - val_loss: 0.0977 - val_accuracy: 0.9831\n",
      "Epoch 71/100\n",
      "30/30 [==============================] - 1s 20ms/step - loss: 0.0044 - accuracy: 0.9988 - val_loss: 0.0935 - val_accuracy: 0.9839\n",
      "Epoch 72/100\n",
      "30/30 [==============================] - 1s 19ms/step - loss: 0.0038 - accuracy: 0.9989 - val_loss: 0.0991 - val_accuracy: 0.9827\n",
      "Epoch 73/100\n",
      "30/30 [==============================] - 1s 20ms/step - loss: 0.0050 - accuracy: 0.9982 - val_loss: 0.0964 - val_accuracy: 0.9832\n",
      "Epoch 74/100\n",
      "30/30 [==============================] - 1s 20ms/step - loss: 0.0034 - accuracy: 0.9990 - val_loss: 0.1016 - val_accuracy: 0.9834\n",
      "Epoch 75/100\n",
      "30/30 [==============================] - 1s 20ms/step - loss: 0.0049 - accuracy: 0.9985 - val_loss: 0.1022 - val_accuracy: 0.9816\n",
      "Epoch 76/100\n",
      "30/30 [==============================] - 1s 20ms/step - loss: 0.0035 - accuracy: 0.9989 - val_loss: 0.1044 - val_accuracy: 0.9814\n",
      "Epoch 77/100\n",
      "30/30 [==============================] - 1s 20ms/step - loss: 0.0040 - accuracy: 0.9987 - val_loss: 0.0960 - val_accuracy: 0.9831\n",
      "Epoch 78/100\n",
      "30/30 [==============================] - 1s 20ms/step - loss: 0.0042 - accuracy: 0.9986 - val_loss: 0.1051 - val_accuracy: 0.9822\n",
      "Epoch 79/100\n",
      "30/30 [==============================] - 1s 20ms/step - loss: 0.0046 - accuracy: 0.9984 - val_loss: 0.1050 - val_accuracy: 0.9818\n",
      "Epoch 80/100\n",
      "30/30 [==============================] - 1s 20ms/step - loss: 0.0041 - accuracy: 0.9985 - val_loss: 0.1019 - val_accuracy: 0.9832\n",
      "Epoch 81/100\n",
      "30/30 [==============================] - 1s 20ms/step - loss: 0.0031 - accuracy: 0.9990 - val_loss: 0.1041 - val_accuracy: 0.9823\n",
      "Epoch 82/100\n",
      "30/30 [==============================] - 1s 20ms/step - loss: 0.0039 - accuracy: 0.9987 - val_loss: 0.0975 - val_accuracy: 0.9836\n",
      "Epoch 83/100\n",
      "30/30 [==============================] - 1s 20ms/step - loss: 0.0024 - accuracy: 0.9993 - val_loss: 0.1204 - val_accuracy: 0.9820\n",
      "Epoch 84/100\n",
      "30/30 [==============================] - 1s 20ms/step - loss: 0.0037 - accuracy: 0.9989 - val_loss: 0.1075 - val_accuracy: 0.9828\n",
      "Epoch 85/100\n",
      "30/30 [==============================] - 1s 20ms/step - loss: 0.0034 - accuracy: 0.9990 - val_loss: 0.1102 - val_accuracy: 0.9830\n",
      "Epoch 86/100\n",
      "30/30 [==============================] - 1s 20ms/step - loss: 0.0034 - accuracy: 0.9991 - val_loss: 0.1024 - val_accuracy: 0.9847\n",
      "Epoch 87/100\n",
      "30/30 [==============================] - 1s 20ms/step - loss: 0.0038 - accuracy: 0.9986 - val_loss: 0.1030 - val_accuracy: 0.9830\n",
      "Epoch 88/100\n",
      "30/30 [==============================] - 1s 21ms/step - loss: 0.0035 - accuracy: 0.9990 - val_loss: 0.1053 - val_accuracy: 0.9827\n",
      "Epoch 89/100\n",
      "30/30 [==============================] - 1s 21ms/step - loss: 0.0036 - accuracy: 0.9988 - val_loss: 0.1089 - val_accuracy: 0.9827\n",
      "Epoch 90/100\n",
      "30/30 [==============================] - 1s 20ms/step - loss: 0.0031 - accuracy: 0.9989 - val_loss: 0.1058 - val_accuracy: 0.9832\n",
      "Epoch 91/100\n",
      "30/30 [==============================] - 1s 23ms/step - loss: 0.0036 - accuracy: 0.9989 - val_loss: 0.1091 - val_accuracy: 0.9832\n",
      "Epoch 92/100\n",
      "30/30 [==============================] - 1s 20ms/step - loss: 0.0030 - accuracy: 0.9989 - val_loss: 0.1100 - val_accuracy: 0.9829\n",
      "Epoch 93/100\n",
      "30/30 [==============================] - 1s 20ms/step - loss: 0.0030 - accuracy: 0.9992 - val_loss: 0.1052 - val_accuracy: 0.9832\n",
      "Epoch 94/100\n",
      "30/30 [==============================] - 1s 20ms/step - loss: 0.0028 - accuracy: 0.9991 - val_loss: 0.1098 - val_accuracy: 0.9842\n",
      "Epoch 95/100\n",
      "30/30 [==============================] - 1s 20ms/step - loss: 0.0035 - accuracy: 0.9990 - val_loss: 0.1044 - val_accuracy: 0.9834\n",
      "Epoch 96/100\n",
      "30/30 [==============================] - 1s 20ms/step - loss: 0.0032 - accuracy: 0.9990 - val_loss: 0.1139 - val_accuracy: 0.9830\n",
      "Epoch 97/100\n",
      "30/30 [==============================] - 1s 20ms/step - loss: 0.0035 - accuracy: 0.9988 - val_loss: 0.1055 - val_accuracy: 0.9842\n",
      "Epoch 98/100\n",
      "30/30 [==============================] - 1s 20ms/step - loss: 0.0024 - accuracy: 0.9991 - val_loss: 0.1111 - val_accuracy: 0.9824\n",
      "Epoch 99/100\n",
      "30/30 [==============================] - 1s 19ms/step - loss: 0.0028 - accuracy: 0.9989 - val_loss: 0.1134 - val_accuracy: 0.9839\n",
      "Epoch 100/100\n",
      "30/30 [==============================] - 1s 19ms/step - loss: 0.0020 - accuracy: 0.9994 - val_loss: 0.1238 - val_accuracy: 0.9806\n"
     ]
    }
   ],
   "source": [
    "model.compile(loss='categorical_crossentropy',\n",
    "             optimizer='rmsprop', metrics=['accuracy'])\n",
    "\n",
    "history=model.fit(x_train, y_train,\n",
    "                 batch_size=batch_size,\n",
    "                 epochs=epochs,\n",
    "                 verbose=1,\n",
    "                 validation_data=(x_test, y_test))"
   ]
  },
  {
   "cell_type": "code",
   "execution_count": 19,
   "id": "8d9d2a6c",
   "metadata": {},
   "outputs": [
    {
     "name": "stdout",
     "output_type": "stream",
     "text": [
      "313/313 [==============================] - 1s 4ms/step - loss: 0.1238 - accuracy: 0.9806\n",
      "Test loss: 0.12383656203746796\n",
      "Test accuracy: 0.9805999994277954\n"
     ]
    }
   ],
   "source": [
    "# 30 epochs만 돌려도 됐을 듯.\n",
    "\n",
    "score = model.evaluate(x_test, y_test, verbose=1)\n",
    "print('Test loss:', score[0])\n",
    "print('Test accuracy:', score[1])"
   ]
  },
  {
   "cell_type": "code",
   "execution_count": 24,
   "id": "4878ea40",
   "metadata": {},
   "outputs": [
    {
     "data": {
      "image/png": "[encoded data removed]",
      "text/plain": [
       "<Figure size 720x720 with 2 Axes>"
      ]
     },
     "metadata": {
      "needs_background": "light"
     },
     "output_type": "display_data"
    }
   ],
   "source": [
    "# 학습 과정 그래프로 나타내기\n",
    "#print(history.history.keys())\n",
    "loss = history.history['loss']\n",
    "val_loss = history.history['val_loss']\n",
    "acc = history.history['accuracy']\n",
    "val_acc = history.history['val_accuracy']\n",
    "\n",
    "plt.figure(figsize=(10,10))    # size 지정이 의미가 있나?\n",
    "\n",
    "# loss subplot\n",
    "plt.subplot(211)\n",
    "plt.title('Loss')\n",
    "epochs = len(loss)\n",
    "plt.plot(range(epochs), loss, marker='.', label='loss')\n",
    "plt.plot(range(epochs), val_loss, marker='.', label='val_loss')\n",
    "plt.legend(loc='best')\n",
    "plt.grid()\n",
    "plt.xlabel('epoch')\n",
    "plt.ylabel('loss')\n",
    "\n",
    "# acc subplot\n",
    "plt.subplot(212)\n",
    "plt.title('Accuracy')\n",
    "plt.plot(range(epochs), acc, marker='.', label='acc')\n",
    "plt.plot(range(epochs), val_acc, marker='.', label='val_acc')\n",
    "plt.legend(loc='best')\n",
    "plt.grid()\n",
    "plt.xlabel('epoch')\n",
    "plt.ylabel('acc')\n",
    "\n",
    "plt.show()"
   ]
  }
 ],
 "metadata": {
  "kernelspec": {
   "display_name": "ML2201",
   "language": "python",
   "name": "ml2201"
  },
  "language_info": {
   "codemirror_mode": {
    "name": "ipython",
    "version": 3
   },
   "file_extension": ".py",
   "mimetype": "text/x-python",
   "name": "python",
   "nbconvert_exporter": "python",
   "pygments_lexer": "ipython3",
   "version": "3.7.11"
  },
  "toc": {
   "base_numbering": 1,
   "nav_menu": {},
   "number_sections": true,
   "sideBar": true,
   "skip_h1_title": false,
   "title_cell": "Table of Contents",
   "title_sidebar": "Contents",
   "toc_cell": false,
   "toc_position": {},
   "toc_section_display": true,
   "toc_window_display": false
  }
 },
 "nbformat": 4,
 "nbformat_minor": 5
}
